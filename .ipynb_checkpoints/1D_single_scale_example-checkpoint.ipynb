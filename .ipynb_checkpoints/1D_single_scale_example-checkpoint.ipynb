{
 "cells": [
  {
   "cell_type": "code",
   "execution_count": 8,
   "metadata": {},
   "outputs": [],
   "source": [
    "\"\"\"\n",
    "Created on Tue Nov 15 2022\n",
    "@author: Juliane Rosemeier\n",
    "\"\"\";"
   ]
  },
  {
   "cell_type": "markdown",
   "metadata": {},
   "source": [
    "<big> <big> <big>   1D single scale example \n",
    "\n",
    "\n",
    "This notebook solves\n",
    "\\begin{equation}\n",
    "\\dot x = -x , \\qquad x(0) = 1.\n",
    "\\end{equation}\n",
    "The exact solution is given by\n",
    "\\begin{equation}\n",
    "x(t) = \\exp(-t) .\n",
    "\\end{equation}\n",
    "The differential equation is used to test the Multi-level Parareal method without averaging. A V-cycle is implemented."
   ]
  },
  {
   "cell_type": "code",
   "execution_count": 9,
   "metadata": {},
   "outputs": [],
   "source": [
    "\"\"\"Import modules\"\"\" \n",
    "\n",
    "import numpy as np\n",
    "import matplotlib.pyplot as plt\n"
   ]
  },
  {
   "cell_type": "code",
   "execution_count": 10,
   "metadata": {},
   "outputs": [],
   "source": [
    "\"\"\"Define the RHS of the problem\"\"\" \n",
    "\n",
    "def rhs(x):\n",
    "    return -x\n"
   ]
  },
  {
   "cell_type": "code",
   "execution_count": 11,
   "metadata": {},
   "outputs": [],
   "source": [
    "\"\"\"Implement Runge-Kutta method of second order (RK2)\"\"\" \n",
    "\n",
    "def RK2(f,x,delta_t): \n",
    "    \"\"\"One step with the RK2 method\"\"\"\n",
    "    \n",
    "    # compute stages\n",
    "    k1 = f(x)\n",
    "    k2 = f(x + 0.5*delta_t*k1) \n",
    "    \n",
    "    # new time step\n",
    "    y = x + delta_t*k2 \n",
    "    \n",
    "    return y \n",
    "\n",
    "\n",
    "def RK2_on_interval(f,x0,grid):\n",
    "    \"\"\"Apply the RK2 method on an interval\n",
    "        f - RHS\n",
    "        x0 - initial value\n",
    "        grid - time grid\"\"\"\n",
    "    \n",
    "    # number of grid points\n",
    "    num_points = len(grid)\n",
    "    \n",
    "    # array for the RK solution\n",
    "    RK_sol = np.zeros(num_points)\n",
    "    RK_sol[0] = x0\n",
    "    \n",
    "    # compute RK solutions on the grid points\n",
    "    for n in range(num_points-1):\n",
    "        tau = grid[n+1] - grid[n]\n",
    "        RK_sol[n+1] = RK2(f,RK_sol[n],tau)\n",
    "        \n",
    "    return RK_sol "
   ]
  },
  {
   "cell_type": "code",
   "execution_count": 12,
   "metadata": {},
   "outputs": [],
   "source": [
    "\"\"\"Discrete l1-norm of the error\"\"\" \n",
    "def error(v1,v2):\n",
    "    vec_E = abs(v1-v2)/len(v1)\n",
    "    E = 0.\n",
    "    for n in range(len(v1)):\n",
    "        E += vec_E[n]\n",
    "    return E"
   ]
  },
  {
   "cell_type": "code",
   "execution_count": 13,
   "metadata": {},
   "outputs": [],
   "source": [
    "\"\"\"Implementation of recursive Parareal V-cycle\"\"\" \n",
    "\n",
    "def parareal_Vcycle(x0, f, dt, len_interval, level, L_max, coarsening_factor):\n",
    "    \"\"\"This function provides a recursive implementation of the Parareal V-cycle. \n",
    "        x0 - initial value, \n",
    "        f - RHS of the prblem, \n",
    "        dt - coarse time step, \n",
    "        len_interval - length of the solution interval, \n",
    "        level - current level,\n",
    "        L_max - coarsest level, \n",
    "        coarsening_factor - coarsening factor of the method\"\"\"\n",
    "    \n",
    "    \n",
    "    # coarse time grid\n",
    "    time_grid = np.arange(0, len_interval + 0.1*dt, dt)\n",
    "    len_grid = len(time_grid)\n",
    "    \n",
    "    # fine time grid\n",
    "    fine_dt = dt/coarsening_factor\n",
    "    fine_grid = np.arange(0, dt+0.1*fine_dt, fine_dt)\n",
    "    \n",
    "    # array for fine solution\n",
    "    fine_solution = np.zeros(len_grid)\n",
    "    fine_solution[0] = x0\n",
    "    \n",
    "    # array for Parareal iterate\n",
    "    iterate = np.zeros(len_grid)\n",
    "    iterate[0] = x0\n",
    "    \n",
    "    \n",
    "    # compute initial guess\n",
    "    initial_guess = RK2_on_interval(rhs, x0, time_grid)\n",
    "    \n",
    "    # compute fine solution, work can be done in parallel\n",
    "\n",
    "    for steps in range(len_grid-1):\n",
    "        if level == 1:\n",
    "            f_sol = RK2_on_interval(rhs, initial_guess[steps], fine_grid)\n",
    "            fine_solution[steps+1] = f_sol[len(f_sol)-1]\n",
    "        else: \n",
    "            fine_solution[steps+1] = parareal_Vcycle(initial_guess[steps], rhs, fine_dt, dt, level-1, \\\n",
    "                                                     L_max, coarsening_factor)        \n",
    "           \n",
    "    # compute iterate\n",
    "\n",
    "    for steps in range(len_grid-1):\n",
    "        new_RK_step = RK2_on_interval(rhs, iterate[steps], np.array([0., dt]))\n",
    "        old_RK_step = RK2_on_interval(rhs, initial_guess[steps], np.array([0., dt]))\n",
    "        iterate[steps+1] = new_RK_step[len(new_RK_step)-1] + fine_solution[steps+1] \\\n",
    "                            - old_RK_step[len(new_RK_step)-1]\n",
    "        \n",
    "       \n",
    "    # compute the error and plot the results for the coarsest level    \n",
    "    if level == L_max:\n",
    "        \n",
    "        # compute error\n",
    "        print('number of levels: ', L_max+1, '  error: ',  error(iterate, np.exp(-time_grid)))\n",
    "        \n",
    "        # plot results\n",
    "        #plt.plot(time_grid, np.exp(-time_grid))\n",
    "        #plt.plot(time_grid, initial_guess,'o')\n",
    "        #plt.plot(time_grid, iterate,'.')\n",
    "        #plt.show()\n",
    "    \n",
    "    return iterate[len(iterate)-1]\n",
    "\n"
   ]
  },
  {
   "cell_type": "code",
   "execution_count": null,
   "metadata": {},
   "outputs": [
    {
     "name": "stdout",
     "output_type": "stream",
     "text": [
      "number of levels:  2   error:  1.2566212807763046e-05\n",
      "number of levels:  3   error:  1.9562958164422008e-05\n",
      "number of levels:  4   error:  1.9807099440426344e-05\n",
      "number of levels:  5   error:  1.9809587023590493e-05\n",
      "number of levels:  6   error:  1.9809615854133382e-05\n",
      "number of levels:  7   error:  1.9809616125891306e-05\n"
     ]
    }
   ],
   "source": [
    "\"\"\"Test the Multi-level Parareal V-cycle. The coarsest level has the same step size in all cases.\"\"\"\n",
    "\n",
    "# coarsening factor in the tests\n",
    "c_factor = 10\n",
    "\n",
    "# coarse time step\n",
    "dt = .25\n",
    "\n",
    "# initial value\n",
    "x0 = 1.\n",
    "\n",
    "# tests with a different the number of levels\n",
    "\n",
    "L_max1 = 1\n",
    "parareal_Vcycle(x0, rhs, dt, 2., L_max1, L_max1, c_factor);\n",
    "\n",
    "L_max2 = 2\n",
    "parareal_Vcycle(x0, rhs, dt, 2., L_max2, L_max2, c_factor);\n",
    "\n",
    "L_max3 = 3\n",
    "parareal_Vcycle(x0, rhs, dt, 2., L_max3, L_max3, c_factor);\n",
    "\n",
    "L_max4 = 4\n",
    "parareal_Vcycle(x0, rhs, dt, 2., L_max4, L_max4, c_factor);\n",
    "\n",
    "L_max5 = 5\n",
    "parareal_Vcycle(x0, rhs, dt, 2., L_max5, L_max5, c_factor);\n",
    "\n",
    "L_max6 = 6\n",
    "parareal_Vcycle(x0, rhs, dt, 2., L_max6, L_max6, c_factor);\n",
    "\n",
    "L_max7 = 7\n",
    "parareal_Vcycle(x0, rhs, dt, 2., L_max7, L_max7, c_factor);\n"
   ]
  },
  {
   "cell_type": "code",
   "execution_count": null,
   "metadata": {},
   "outputs": [],
   "source": []
  }
 ],
 "metadata": {
  "authors": [
   {
    "name": "Juliane Rosemeier"
   }
  ],
  "kernelspec": {
   "display_name": "Python 3 (ipykernel)",
   "language": "python",
   "name": "python3"
  },
  "language_info": {
   "codemirror_mode": {
    "name": "ipython",
    "version": 3
   },
   "file_extension": ".py",
   "mimetype": "text/x-python",
   "name": "python",
   "nbconvert_exporter": "python",
   "pygments_lexer": "ipython3",
   "version": "3.10.8"
  }
 },
 "nbformat": 4,
 "nbformat_minor": 2
}
