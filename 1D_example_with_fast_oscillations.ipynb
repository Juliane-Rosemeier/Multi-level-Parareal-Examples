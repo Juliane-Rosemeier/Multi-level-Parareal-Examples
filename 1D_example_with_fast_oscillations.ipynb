{
 "cells": [
  {
   "cell_type": "code",
   "execution_count": 48,
   "metadata": {},
   "outputs": [],
   "source": [
    "\"\"\"\n",
    "Created on Tue Nov 15 2022\n",
    "@author: Juliane Rosemeier\n",
    "\"\"\""
   ]
  },
  {
   "cell_type": "markdown",
   "metadata": {},
   "source": [
    "<big> <big> <big> 1D example with fast oscillations\n",
    "    \n",
    "Consider\n",
    "$$\\dot u = iru - u^2 . $$\n",
    "Apply the transformation $w = exp(irt)u ,$\n",
    "which lead to the new problem\n",
    "$$\\dot w = - \\exp(irt)w^2 ,$$\n",
    "which is to be solved in this notebook."
   ]
  },
  {
   "cell_type": "code",
   "execution_count": 32,
   "metadata": {},
   "outputs": [],
   "source": [
    "\"\"\"Import modules\"\"\" \n",
    "\n",
    "import numpy as np\n",
    "import matplotlib.pyplot as plt\n"
   ]
  },
  {
   "cell_type": "code",
   "execution_count": 33,
   "metadata": {},
   "outputs": [],
   "source": [
    "\"\"\"Define imaginary unit\"\"\"\n",
    "\n",
    "I = complex(0., 1.)\n"
   ]
  },
  {
   "cell_type": "markdown",
   "metadata": {},
   "source": [
    "The exact solution of the problem is given by\n",
    "$$w(t) = \\frac{r w_0}{-iw_0 \\exp(irt) + iw_0 +r} .$$"
   ]
  },
  {
   "cell_type": "code",
   "execution_count": 34,
   "metadata": {},
   "outputs": [],
   "source": [
    "\"\"\"Compute exact solution\"\"\" \n",
    "\n",
    "w0 = 1.\n",
    "x_start = 1.\n",
    "\n",
    "def exact_solution(grid):\n",
    "    \n",
    "    N = len(grid)\n",
    "    e_sol = np.zeros(N, complex)\n",
    "    \n",
    "    for n in range(N):\n",
    "        e_sol[n] = r*w0/((-I)*w0*np.exp(I*r*grid[n])+I*w0+r)\n",
    "    \n",
    "    return e_sol\n"
   ]
  },
  {
   "cell_type": "code",
   "execution_count": 35,
   "metadata": {},
   "outputs": [],
   "source": [
    "\"\"\"RHS of the problem\"\"\"\n",
    "\n",
    "def rhs3(t,x):\n",
    "    return -np.exp(I*r*t)*x*x\n"
   ]
  },
  {
   "cell_type": "code",
   "execution_count": 36,
   "metadata": {},
   "outputs": [],
   "source": [
    "\"\"\"Runge-Kutta method of second order (RK2)\"\"\"\n",
    "\n",
    "\n",
    "def RK2(f,x,t,delta_t):   \n",
    "    k1 = f(t,x)\n",
    "    k2 = f(t+0.5*delta_t, x + 0.5*delta_t*k1)    \n",
    "    y = x + delta_t*k2    \n",
    "    return y \n",
    "\n",
    "def RK2_on_interval2(f,x0,grid):\n",
    "    num_points = len(grid)\n",
    "    x_grid = np.zeros(num_points, complex)\n",
    "    x_grid[0] = x0\n",
    "    for n in range(num_points-1):\n",
    "        tau = grid[n+1] - grid[n]\n",
    "        x_grid[n+1] = RK2(f,x_grid[n],grid[n],tau)\n",
    "    return x_grid \n"
   ]
  },
  {
   "cell_type": "markdown",
   "metadata": {},
   "source": [
    "Now, we want to apply averaging to mitigate the oscillations. The averaged equations are given by\n",
    "$$\\dot {\\bar w} = (-1)\\ \\underbrace{\\frac{1}{\\eta_l} \\int_{-\\eta_l/2}^{\\eta_l/2} \\ \\rho \\left( \\frac{s}{\\eta_l} \\right) \\\n",
    "\\exp(irs) \\ ds}_{\\text{damping factor}} \\ \\exp(irt) \\ w(t)^2$$\n",
    "Thus, applying the averaging means multiplying the RHS with a damping factor."
   ]
  },
  {
   "cell_type": "code",
   "execution_count": 37,
   "metadata": {},
   "outputs": [],
   "source": [
    "\"\"\"Here the functions necessary to compute the damping factors are implemented.\"\"\"\n",
    "\n",
    "def scaled_rho(eta):\n",
    "    \"\"\"Scaled kernel function\"\"\"\n",
    "    \n",
    "    rho_0 = 0.007029858406609657\n",
    "    \n",
    "    dt = eta/1000.\n",
    "    grid = np.arange(-0.5*eta+0.1*dt, 0.5*eta, dt)\n",
    "    N = len(grid)\n",
    "    sc_rho = np.zeros(N, float)\n",
    "    \n",
    "    for n in range(N):\n",
    "        sc_rho[n] = 1./(eta*rho_0) * np.exp(1./((grid[n]/eta-0.5)*(grid[n]/eta+0.5)))\n",
    "    \n",
    "    return grid, sc_rho\n",
    "\n",
    "\n",
    "def trapez(v, dt):\n",
    "    \"\"\"Quadrature rule\"\"\"\n",
    "    \n",
    "    N = len(v)\n",
    "    integral = 0.\n",
    "    \n",
    "    for n in range(N-1):\n",
    "        integral += 0.5*dt * (v[n]+v[n+1])\n",
    "    \n",
    "    return integral\n",
    "\n",
    "\n",
    "\n",
    "def damping_factor(eta):\n",
    "    \"\"\"Compute damping factors\"\"\"\n",
    "    \n",
    "    sc_grid, sc_rho = scaled_rho(eta)\n",
    "    rhs_grid = (1.) * np.exp(I*r*sc_grid)\n",
    "    \n",
    "    v = sc_rho*rhs_grid\n",
    "    d_factor = trapez(v, eta/1000.)\n",
    "    \n",
    "    return d_factor\n"
   ]
  },
  {
   "cell_type": "markdown",
   "metadata": {},
   "source": [
    "The RHS of the problem which is to be solved depends on the level. Thus, we implement level-dependent RHS. Furthermore the RK methods have the level as a parameter to make sure that the correct RHS is used."
   ]
  },
  {
   "cell_type": "code",
   "execution_count": 38,
   "metadata": {},
   "outputs": [],
   "source": [
    "\"\"\"Level-dependent RHS of the problem. We apply averaging if we are not on the finest level\"\"\"\n",
    "\n",
    "def rhs_level(t,x,level):\n",
    "    return -np.exp(I*r*t) * x*x * damping_factors[level]\n"
   ]
  },
  {
   "cell_type": "code",
   "execution_count": 39,
   "metadata": {},
   "outputs": [],
   "source": [
    "\"\"\"Apply the RK2 method on the level-dependent RHS of the problem.\"\"\"\n",
    "\n",
    "def RK2_level(f,x,t,delta_t, level):   \n",
    "    k1 = f(t,x, level)\n",
    "    k2 = f(t+0.5*delta_t, x + 0.5*delta_t*k1, level)    \n",
    "    y = x + delta_t*k2    \n",
    "    return y \n",
    "\n",
    "def RK2_on_interval_level(f,x0,grid, level):\n",
    "    num_points = len(grid)\n",
    "    x_grid = np.zeros(num_points, complex)\n",
    "    x_grid[0] = x0\n",
    "    for n in range(num_points-1):\n",
    "        tau = grid[n+1] - grid[n]\n",
    "        x_grid[n+1] = RK2_level(f,x_grid[n],grid[n],tau, level)\n",
    "    return x_grid \n"
   ]
  },
  {
   "cell_type": "code",
   "execution_count": 40,
   "metadata": {},
   "outputs": [],
   "source": [
    "\"\"\"Discrete l1-norm of the error\"\"\"\n",
    "\n",
    "def error(v1,v2):\n",
    "    vec_E = abs(v1-v2)/len(v1)\n",
    "    E = 0.\n",
    "    for n in range(len(v1)):\n",
    "        E += vec_E[n]\n",
    "    return E\n"
   ]
  },
  {
   "cell_type": "code",
   "execution_count": 41,
   "metadata": {},
   "outputs": [],
   "source": [
    "\"\"\"Implementation of recursive Parareal V-cycle\"\"\"\n",
    "\n",
    "# init_time is important for non-autonomous problems!\n",
    "def parareal_Vcycle(x0, f, dt, len_interval, level, L_max, coarsening_factor, init_time):\n",
    "    \"\"\"This function does a Parareal V-cycle.\n",
    "        x0 - intial guess \n",
    "        f - right handside of the problem \n",
    "        dt - coarse time step \n",
    "        len_interval - length of solution unterval \n",
    "        level - level where solutio shall be computes \n",
    "        L_max - coarsest level \n",
    "        coarsening_factor coarsening factor which relates the time steps on the levels \n",
    "        init_time - intial time\n",
    "    \"\"\"\n",
    "    \n",
    "    # coarse time grid\n",
    "    time_grid = np.arange(0, len_interval + 0.1*dt, dt) + init_time\n",
    "    len_grid = len(time_grid)\n",
    "    \n",
    "    # fine time step and fine time grid\n",
    "    fine_dt = dt/coarsening_factor\n",
    "    fine_grid = np.arange(0, dt+0.1*fine_dt, fine_dt)\n",
    "    \n",
    "    # array for fine solution\n",
    "    fine_solution = np.zeros(len_grid, complex)\n",
    "    fine_solution[0] = x0\n",
    "    \n",
    "    # array for for Parareal solution\n",
    "    iterate = np.zeros(len_grid, complex)\n",
    "    iterate[0] = x0\n",
    "    \n",
    "    \n",
    "    # compute initial guess\n",
    "    initial_guess = RK2_on_interval_level(f, x0, time_grid, level)\n",
    "    \n",
    "    # loop over coarse time steps\n",
    "    time = init_time\n",
    "    for steps in range(len_grid-1):\n",
    "        \n",
    "        # compute fine solution, work can be done in parallel\n",
    "        if level == 1:\n",
    "            f_sol = RK2_on_interval_level(f, initial_guess[steps], time+fine_grid, level-1)\n",
    "            fine_solution[steps+1] = f_sol[len(f_sol)-1]\n",
    "        else: \n",
    "            fine_solution[steps+1] = parareal_Vcycle(initial_guess[steps], f, fine_dt, dt, level-1, \\\n",
    "      \n",
    "                                                     L_max, coarsening_factor, time)\n",
    "        time = time+dt\n",
    "    \n",
    "    # loop over coarse time steps\n",
    "    time = init_time\n",
    "    for steps in range(len_grid-1): \n",
    "        \n",
    "        # compute iterate\n",
    "        old_RK_step = RK2_on_interval_level(f, initial_guess[steps], np.array([time, time+dt]), level)\n",
    "        new_RK_step = RK2_on_interval_level(f, iterate[steps], np.array([time, time+dt]), level)\n",
    "        iterate[steps+1] = new_RK_step[len(new_RK_step)-1] + fine_solution[steps+1] \\\n",
    "                            - old_RK_step[len(old_RK_step)-1]       \n",
    "        time = time+dt\n",
    "        \n",
    "       \n",
    "    # compute error and plot results on coarsest level    \n",
    "    if level == L_max:\n",
    "        \n",
    "        #M = len(time_grid)\n",
    "        e_sol = exact_solution(time_grid)\n",
    "        \n",
    "        print('Number of levels: ', L_max+1)\n",
    "        print('error Parareal iterate: ',  error(iterate, e_sol))\n",
    "        \n",
    "        #plt.plot(time_grid, exact_solution(time_grid).real,'-o')\n",
    "        #plt.plot(time_grid, initial_guess.real,'o')\n",
    "        #plt.plot(time_grid, iterate.real,'.')\n",
    "        #plt.legend(['exact solution', 'initial guess', 'iterate'])\n",
    "        #plt.show()\n",
    "    \n",
    "    \n",
    "    return iterate[len(iterate)-1]\n",
    "\n"
   ]
  },
  {
   "cell_type": "code",
   "execution_count": 42,
   "metadata": {},
   "outputs": [
    {
     "name": "stdout",
     "output_type": "stream",
     "text": [
      "Number of levels:  2\n",
      "error Parareal iterate:  0.0002169750591733674\n",
      "Number of levels:  3\n",
      "error Parareal iterate:  0.00019811199764541986\n"
     ]
    }
   ],
   "source": [
    "\"\"\"test for r=100\"\"\"\n",
    "\n",
    "r = 100.\n",
    "\n",
    "# compute damping factors\n",
    "d_factor1 = damping_factor(0.2)\n",
    "d_factor2 = damping_factor(2.)\n",
    "damping_factors = np.array([1., d_factor1, d_factor2])\n",
    "\n",
    "parareal_Vcycle(x_start, rhs_level, 0.01, 1., 1, 1, 10, 0.);\n",
    "parareal_Vcycle(x_start, rhs_level, 0.1, 1., 2, 2, 10, 0.);\n"
   ]
  },
  {
   "cell_type": "code",
   "execution_count": 44,
   "metadata": {},
   "outputs": [
    {
     "name": "stdout",
     "output_type": "stream",
     "text": [
      "Number of levels:  2\n",
      "error Parareal iterate:  2.1847140062264943e-06\n",
      "Number of levels:  3\n",
      "error Parareal iterate:  2.106413305540892e-06\n",
      "Number of levels:  4\n",
      "error Parareal iterate:  2.251750942815425e-06\n"
     ]
    }
   ],
   "source": [
    "\"\"\"test for r=1000\"\"\"\n",
    "\n",
    "r = 1000.\n",
    "\n",
    "# compute damping factors\n",
    "d_factor1 = damping_factor(0.02)\n",
    "d_factor2 = damping_factor(0.2)\n",
    "d_factor3 = damping_factor(2.)\n",
    "damping_factors = np.array([1., d_factor1, d_factor2, d_factor3])\n",
    "\n",
    "parareal_Vcycle(x_start, rhs_level, 0.001, 1., 1, 1, 10, 0.);\n",
    "parareal_Vcycle(x_start, rhs_level, 0.01, 1., 2, 2, 10, 0.);\n",
    "parareal_Vcycle(x_start, rhs_level, 0.1, 1., 3, 3, 10, 0.);\n"
   ]
  },
  {
   "cell_type": "code",
   "execution_count": 46,
   "metadata": {},
   "outputs": [
    {
     "name": "stdout",
     "output_type": "stream",
     "text": [
      "Number of levels:  2\n",
      "error Parareal iterate:  3.0668862104273734e-07\n",
      "Number of levels:  3\n",
      "error Parareal iterate:  3.0480547757705495e-07\n",
      "Number of levels:  4\n",
      "error Parareal iterate:  3.0357016877934065e-07\n",
      "Number of levels:  5\n",
      "error Parareal iterate:  2.7011063136189545e-07\n"
     ]
    }
   ],
   "source": [
    "\"\"\"test for r=10000\"\"\"\n",
    "\n",
    "r = 10000.\n",
    "\n",
    "# compute damping factors\n",
    "d_factor1 = damping_factor(0.002)\n",
    "d_factor2 = damping_factor(0.02)\n",
    "d_factor3 = damping_factor(0.2)\n",
    "d_factor4 = damping_factor(2.)\n",
    "damping_factors = np.array([1., d_factor1, d_factor2, d_factor3, d_factor4])\n",
    "\n",
    "parareal_Vcycle(x_start, rhs_level, 0.00025, 1., 1, 1, 10, 0.);\n",
    "parareal_Vcycle(x_start, rhs_level, 0.0025, 1., 2, 2, 10, 0.);\n",
    "parareal_Vcycle(x_start, rhs_level, 0.025, 1., 3, 3, 10, 0.);\n",
    "parareal_Vcycle(x_start, rhs_level, 0.25, 1., 4, 4, 10, 0.);\n",
    "\n"
   ]
  },
  {
   "cell_type": "code",
   "execution_count": null,
   "metadata": {},
   "outputs": [],
   "source": []
  }
 ],
 "metadata": {
  "authors": [
   {
    "name": "Juliane Rosemeier"
   }
  ],
  "kernelspec": {
   "display_name": "Python 3 (ipykernel)",
   "language": "python",
   "name": "python3"
  },
  "language_info": {
   "codemirror_mode": {
    "name": "ipython",
    "version": 3
   },
   "file_extension": ".py",
   "mimetype": "text/x-python",
   "name": "python",
   "nbconvert_exporter": "python",
   "pygments_lexer": "ipython3",
   "version": "3.10.8"
  }
 },
 "nbformat": 4,
 "nbformat_minor": 2
}
